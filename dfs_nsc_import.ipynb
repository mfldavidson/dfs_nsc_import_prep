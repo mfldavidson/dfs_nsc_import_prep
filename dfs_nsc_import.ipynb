{
 "cells": [
  {
   "cell_type": "markdown",
   "metadata": {},
   "source": [
    "# Prepare an NSC Data Return File for Import into DRDFS Salesforce\n",
    "[Detroit Regional Dollars for Scholars](https://drdfs.org/) gets data from the National Student Clearinghouse on its alumni outcomes using the [StudentTracker service](https://www.studentclearinghouse.org/colleges/studenttracker/). This program takes a file returned from NSC as input, manipulates the data into the format needed to import it into DRDFS's student information system (Salesforce CoPilot), and outputs a file ready to be imported.\n",
    "\n",
    "There are three types of records produced from the NSC Data:\n",
    "1. A Standard Academic Semester record of a student enrolled at a particular school in a particular semester\n",
    "1. A Degree record of a student earning a degree at a particular school on a particular date\n",
    "1. A No Enrollment Academic Semester record that no record was found for a student by the NSC\n",
    "\n",
    "## Input (Files Needed)\n",
    "- `NSC_Return.csv` = The exact file returned by the NSC.\n",
    "- `schools_to_replace.csv` = A file of some schools' NSC and IPEDS names. School names in Salesforce are sourced from IPEDS and don't always neatly match the same school's name as reported by the NSC. Thus, this file provides a convenient way to store known NSC Name to IPEDS name mappings to use to streamline merging in the schools data.\n",
    "\n",
    "## Output\n",
    "- `NSC_Import_Academic_Semesters.csv` = The Standard Academic Semesters file that is ready to be imported into Salesforce.\n",
    "- `NSC_Import_Degrees.csv` = The Degrees file that is ready to be imported into Salesforce."
   ]
  },
  {
   "cell_type": "code",
   "execution_count": null,
   "metadata": {},
   "outputs": [],
   "source": [
    "import pandas as pd\n",
    "import numpy as np\n",
    "import csv\n",
    "from tools import salesforce_to_dataframe, year_to_period, degree_type\n",
    "from creds import sf"
   ]
  },
  {
   "cell_type": "markdown",
   "metadata": {},
   "source": [
    "## Step 1\n",
    "Load `NSC_Return.csv`, drop unnecessary columns, and format the ID field to prepare it to merge with the student data."
   ]
  },
  {
   "cell_type": "code",
   "execution_count": null,
   "metadata": {},
   "outputs": [],
   "source": [
    "# Read in the data returned from NSC\n",
    "nsc = pd.read_csv('data/NSC_Return.csv')\n",
    "\n",
    "# Get rid of empty columns\n",
    "nsc = nsc.dropna(axis=1, how='all')\n",
    "\n",
    "# Convert float to int to match the format needed by Salesforce\n",
    "types = nsc.dtypes\n",
    "for column in types.index:\n",
    "    if types[column] == np.float64:\n",
    "        nsc.loc[:,column] = nsc[column].astype('Int64')\n",
    "\n",
    "# Strip the '_' to get the student's Salesforce ID but in all caps\n",
    "nsc.loc[:,'ID'] = nsc['Requester Return Field'].str.strip('_')"
   ]
  },
  {
   "cell_type": "markdown",
   "metadata": {},
   "source": [
    "## Step 2\n",
    "Get the student data from the Salesforce API and merge it with the NSC data to get the Salesforce ID for the students."
   ]
  },
  {
   "cell_type": "code",
   "execution_count": null,
   "metadata": {},
   "outputs": [],
   "source": [
    "# Get student data from Salesforce API to map to Salesforce IDs\n",
    "r = sf.query_all(\"SELECT Id, FirstName, LastName FROM Contact WHERE RecordTypeId = '0124T000000giN2'\")\n",
    "stus = salesforce_to_dataframe(r)\n",
    "\n",
    "# Create new columns where \"ID\" and \"LastName\" are uppercase to match NSC data\n",
    "stus.loc[:,'ID'] = stus['Id'].str.upper()\n",
    "\n",
    "# Rename \"Id\" to \"Student_id\" to avoid confusion with other IDs later\n",
    "stus = stus.rename(columns={'Id': 'Student_id'})\n",
    "\n",
    "# Merge in the student data to get the properly-cased Salesforce IDs\n",
    "merged_stu = nsc.merge(stus,\n",
    "                       on='ID',\n",
    "                       how='left')"
   ]
  },
  {
   "cell_type": "code",
   "execution_count": null,
   "metadata": {},
   "outputs": [],
   "source": [
    "# Show any NSC records where the students weren't matched to the Salesforce data\n",
    "merged_stu[merged_stu.Student_id.isnull()]"
   ]
  },
  {
   "cell_type": "markdown",
   "metadata": {},
   "source": [
    "## Step 3\n",
    "Manipulate the columns of the data returned from the NSC into the format needed by Salesforce, including dropping unnecessary columns, and split into \"found\" (Standard Academic Semester and Degree) and \"not found\" (No Enrollment Academic Semester) records."
   ]
  },
  {
   "cell_type": "code",
   "execution_count": null,
   "metadata": {},
   "outputs": [],
   "source": [
    "# Create a column to note the 'Data Source' as 'NSC'\n",
    "merged_stu.loc[:,'Data Source'] = 'NSC'\n",
    "\n",
    "# Split the records into those found by NSC and those not found\n",
    "found = merged_stu[ merged_stu['Record Found Y/N'] == 'Y'].copy()\n",
    "not_found = merged_stu[ merged_stu['Record Found Y/N'] == 'N'].copy()\n",
    "\n",
    "# Convert all string date columns to datetime\n",
    "found.loc[:,['Search Date',\n",
    "           'Enrollment Begin',\n",
    "           'Enrollment End',\n",
    "           'Graduation Date']] = found[['Search Date',\n",
    "                                        'Enrollment Begin',\n",
    "                                        'Enrollment End',\n",
    "                                        'Graduation Date']].apply(pd.to_datetime,\n",
    "                                                                  format='%Y%m%d')\n",
    "\n",
    "# Use year_to_period func to determine period based on enrollment begin date\n",
    "found.loc[:,'Period'] = found['Enrollment Begin'].apply(year_to_period)"
   ]
  },
  {
   "cell_type": "markdown",
   "metadata": {},
   "source": [
    "## Step 4 - Standard Academic Semesters and Degrees Only\n",
    "Use `schools_to_replace.csv` to replace the names of the schools to make the merge easier."
   ]
  },
  {
   "cell_type": "code",
   "execution_count": null,
   "metadata": {},
   "outputs": [],
   "source": [
    "# Read in a few NSC School Name to IPEDS School Name mappings to fix names\n",
    "with open('schools_to_replace.csv', 'r') as schools_to_replace:\n",
    "    schools = {}\n",
    "    reader = csv.reader(schools_to_replace)\n",
    "    next(reader) # Skip header row\n",
    "    for row in reader:\n",
    "        schools[row[0].upper()] = row[1].upper() # Ensure uppercase\n",
    "\n",
    "# Replace a few school names to better match IPEDS names\n",
    "found.loc[:,'College Name'] = found['College Name'].replace(schools)"
   ]
  },
  {
   "cell_type": "markdown",
   "metadata": {},
   "source": [
    "## Step 5 - Standard Academic Semesters and Degrees Only\n",
    "Get the schools data from the Salesforce API and merge it with the NSC data to get the Salesforce ID for the school accounts."
   ]
  },
  {
   "cell_type": "code",
   "execution_count": null,
   "metadata": {},
   "outputs": [],
   "source": [
    "# Get school data from Salesforce API to map to Salesforce IDs\n",
    "r = sf.query_all(\"SELECT Id, Name, BillingState FROM Account WHERE RecordTypeId = '0124T000000giMm'\")\n",
    "schools = salesforce_to_dataframe(r)\n",
    "\n",
    "# Set name column to uppercase to match uppercase school name from NSC\n",
    "schools.loc[:,'NAME'] = schools['Name'].str.upper()\n",
    "\n",
    "# Rename \"Id\" to \"School_id\" to avoid confusion with other IDs later\n",
    "schools = schools.rename(columns={'Id': 'School_id'})\n",
    "\n",
    "# Merge found_sems with schools to get the school's Salesforce ID\n",
    "merged_school = found.merge(schools[['School_id', 'NAME']],\n",
    "                               left_on='College Name',\n",
    "                               right_on='NAME',\n",
    "                               how='left')"
   ]
  },
  {
   "cell_type": "markdown",
   "metadata": {},
   "source": [
    "For any records printed below, follow these steps:\n",
    "1. Find the corresponding school in Salesforce\n",
    "1. Copy/paste the name from the table below into the first column of `schools_to_replace.csv` on the next empty row\n",
    "1. Copy/paste the corresponding name from Salesforce into the second column\n",
    "1. Save `schools_to_replace.csv` \n",
    "1. Re-run this program and ensure that the below table comes up empty"
   ]
  },
  {
   "cell_type": "code",
   "execution_count": null,
   "metadata": {},
   "outputs": [],
   "source": [
    "# Any records where school and name are null, the school couldn't be matched\n",
    "merged_school['NAME'][ merged_school.NAME.isnull()]"
   ]
  },
  {
   "cell_type": "markdown",
   "metadata": {},
   "source": [
    "## Step 6 - Standard Academic Semesters and Degrees Only\n",
    "Split into Academic Semesters and Degrees records and format academic semester name column."
   ]
  },
  {
   "cell_type": "code",
   "execution_count": null,
   "metadata": {},
   "outputs": [],
   "source": [
    "# Split into Academic Semesters and Degrees records (Period is NaN if Degree)\n",
    "found_sems = merged_school[ ~merged_school.Period.isnull()].copy()\n",
    "found_degrees = merged_school[ merged_school.Period.isnull()].copy()\n",
    "\n",
    "# Set year column to the year the enrollment started, as a string\n",
    "found_sems.loc[:,'Year'] = found_sems['Enrollment Begin'].apply(lambda x: str(x.year))\n",
    "\n",
    "# Set acad semester name column to \"Period Year\" as \"Fall 2019\" for example\n",
    "found_sems.loc[:,'Academic Semester Name'] = found_sems['Period'] + ' ' + found_sems['Year']\n",
    "\n",
    "found_sems.loc[:,'Record Type'] = '0124T000000giMk'"
   ]
  },
  {
   "cell_type": "markdown",
   "metadata": {},
   "source": [
    "## Step 7 - Standard Academic Semesters Only\n",
    "Get the academic semesters data from the Salesforce API and merge it with the NSC data to determine which academic semesters already exist to be omitted from the import."
   ]
  },
  {
   "cell_type": "code",
   "execution_count": null,
   "metadata": {},
   "outputs": [],
   "source": [
    "# Get the academic semesters from the Salesforce API\n",
    "r = sf.query_all(\"SELECT CoFo_SIS__Student__r.Id, CoFo_SIS__School__r.Id, Name, CoFo_SIS__Period__c, \"\n",
    "                 \"CoFo_SIS__Academic_Year_Start_Date__c, Enrollment_End__c \"\n",
    "                 \"FROM CoFo_SIS__Academic_Semester__c WHERE RecordTypeId = '0124T000000giMk'\")\n",
    "sems = salesforce_to_dataframe(r)\n",
    "\n",
    "# Merge in sems to find sems that have previously been imported to omit\n",
    "sems_merged = found_sems.merge(sems,\n",
    "                               left_on=['Student_id',\n",
    "                                        'Academic Semester Name',\n",
    "                                        'School_id'],\n",
    "                               right_on=['CoFo_SIS__Student__r Id',\n",
    "                                         'Name',\n",
    "                                         'CoFo_SIS__School__r Id'],\n",
    "                               how='left')\n",
    "\n",
    "# Pull out sems that didn't match an existing sem in the merge to import\n",
    "sems_to_load = sems_merged[ sems_merged['CoFo_SIS__School__r Id'].isnull()]"
   ]
  },
  {
   "cell_type": "markdown",
   "metadata": {},
   "source": [
    "## Step 8 - Standard Academic Semesters Only\n",
    "Prepare the final data for import by dropping columns that are unnecessary for the import and output `NSC_Import_Academic_Semesters.csv` of Standard Academic Semesters that is ready to be imported into Salesforce."
   ]
  },
  {
   "cell_type": "code",
   "execution_count": null,
   "metadata": {},
   "outputs": [],
   "source": [
    "# Drop empty columns\n",
    "sems_to_load = sems_to_load.dropna(axis=1, how='all')\n",
    "\n",
    "# Rename some columns to match Salesforce DataLoader mapping\n",
    "sems_to_load = sems_to_load.rename(columns={'Enrollment Begin_x': 'Enrollment Begin',\n",
    "                                            'Enrollment End_x': 'Enrollment End',\n",
    "                                            'Contact ID': 'Student: Contact ID',\n",
    "                                            'Period_x': 'Period',\n",
    "                                            'School_id': 'School: Account ID'})\n",
    "\n",
    "# Write the import file to a CSV ready to load\n",
    "sems_to_load.to_csv('data/NSC_Import_Academic_Semesters.csv',\n",
    "                    index=False,\n",
    "                    date_format='%Y-%m-%d',\n",
    "                    columns=['Requester Return Field',\n",
    "                             'Record Found Y/N',\n",
    "                             'Search Date',\n",
    "                             'College Code/Branch',\n",
    "                             '2-year / 4-year',\n",
    "                             'Public / Private',\n",
    "                             'Enrollment Begin',\n",
    "                             'Enrollment End',\n",
    "                             'Enrollment Status',\n",
    "                             'Class Level',\n",
    "                             'Enrollment Major 1',\n",
    "                             'Enrollment CIP 1',\n",
    "                             'Enrollment Major 2',\n",
    "                             'Enrollment CIP 2',\n",
    "                             'Graduated?',\n",
    "                             'College Sequence',\n",
    "                             'Student_id',\n",
    "                             'Data Source',\n",
    "                             'Period',\n",
    "                             'School: Account ID',\n",
    "                             'Academic Semester Name',\n",
    "                             'Record Type'])"
   ]
  },
  {
   "cell_type": "markdown",
   "metadata": {},
   "source": [
    "## Step 9 - Degrees Only"
   ]
  },
  {
   "cell_type": "markdown",
   "metadata": {},
   "source": [
    "Merge data from `degrees.csv` with the NSC data to determine which degrees already exist to be omitted from the import."
   ]
  },
  {
   "cell_type": "code",
   "execution_count": null,
   "metadata": {
    "scrolled": true
   },
   "outputs": [],
   "source": [
    "# Get the degrees data from the Salesforce API\n",
    "r = sf.query_all(\"SELECT CoFo_SIS__Student__r.Id, CoFo_SIS__School__r.Id, Name, Degree_Major_1__c \"\n",
    "                 \"FROM CoFo_SIS__Degree__c\")\n",
    "degrees = salesforce_to_dataframe(r)\n",
    "\n",
    "# Merge in degrees to find degrees that have previously been imported to omit\n",
    "degrees_merged = found_degrees.merge(degrees,\n",
    "                                     left_on=['Student_id',\n",
    "                                              'Degree Title',\n",
    "                                              'School_id',\n",
    "                                              'Degree Major 1'],\n",
    "                                     right_on=['CoFo_SIS__Student__r Id',\n",
    "                                               'Name',\n",
    "                                               'CoFo_SIS__School__r Id',\n",
    "                                               'Degree_Major_1__c'],\n",
    "                                     how='left')\n",
    "\n",
    "# Pull out degrees that didn't match an existing degree in the merge to import\n",
    "degrees_to_load = degrees_merged[ degrees_merged['CoFo_SIS__School__r Id'].isnull()]"
   ]
  },
  {
   "cell_type": "markdown",
   "metadata": {},
   "source": [
    "## Step 10 - Degrees Only\n",
    "Prepare the final data for import by dropping columns that are unnecessary for the import and output `NSC_Import_Degrees.csv` of Degrees that is ready to be imported into Salesforce."
   ]
  },
  {
   "cell_type": "code",
   "execution_count": null,
   "metadata": {},
   "outputs": [],
   "source": [
    "# Pull out only those columns needed for the import\n",
    "degrees_to_load = degrees_to_load[['Student_id', 'School_id', 'Graduation Date',\n",
    "                                   'Degree Title', 'Degree Major 1',\n",
    "                                   'Degree CIP 1', 'Data Source']]\n",
    "\n",
    "degrees_to_load = degrees_to_load.rename(columns={'Student_id': 'Student: Contact ID',\n",
    "                                                  'School_id': 'School: Account ID'})\n",
    "\n",
    "# Fill the empty Degree Title values since they are required in Salesforce\n",
    "degrees_to_load.loc[:,'Degree Title'] = degrees_to_load['Degree Title'].fillna(value='UNKNOWN')\n",
    "\n",
    "# Assign Degree Type when possible\n",
    "degrees_to_load.loc[:,'Degree Type'] = degrees_to_load['Degree Title'].apply(degree_type)\n",
    "\n",
    "# Write the import file to a CSV ready to load\n",
    "degrees_to_load.to_csv('data/NSC_Import_Degrees.csv',\n",
    "                       index=False,\n",
    "                       date_format='%Y-%m-%d')"
   ]
  },
  {
   "cell_type": "code",
   "execution_count": null,
   "metadata": {},
   "outputs": [],
   "source": []
  }
 ],
 "metadata": {
  "kernelspec": {
   "display_name": "dfs_nsc",
   "language": "python",
   "name": "dfs_nsc"
  },
  "language_info": {
   "codemirror_mode": {
    "name": "ipython",
    "version": 3
   },
   "file_extension": ".py",
   "mimetype": "text/x-python",
   "name": "python",
   "nbconvert_exporter": "python",
   "pygments_lexer": "ipython3",
   "version": "3.7.1"
  }
 },
 "nbformat": 4,
 "nbformat_minor": 2
}
